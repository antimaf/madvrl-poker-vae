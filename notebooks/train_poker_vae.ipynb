{
 "cells": [
  {
   "cell_type": "markdown",
   "metadata": {},
   "source": [
    "# MADVRL Poker VAE Training Notebook\n",
    "\n",
    "## Setup and Imports"
   ]
  },
  {
   "cell_type": "code",
   "execution_count": null,
   "metadata": {},
   "outputs": [],
   "source": [
    "import torch\n",
    "import numpy as np\n",
    "import matplotlib.pyplot as plt\n",
    "from vae_preprocessing import create_vae_dataloader\n",
    "from vae import PokerHiddenStateVAE, train_poker_vae"
   ]
  },
  {
   "cell_type": "markdown",
   "metadata": {},
   "source": [
    "## Hyperparameters and Configuration"
   ]
  },
  {
   "cell_type": "code",
   "execution_count": null,
   "metadata": {},
   "outputs": [],
   "source": [
    "# Model Hyperparameters\n",
    "input_dim = 10\n",
    "hidden_state_dim = 5\n",
    "hidden_dims = [64, 128]\n",
    "latent_dim = 32\n",
    "batch_size = 256\n",
    "learning_rate = 1e-3\n",
    "epochs = 1000\n",
    "\n",
    "# Device Configuration\n",
    "device = torch.device('cuda' if torch.cuda.is_available() else 'cpu')\n",
    "print(f\"Using device: {device}\")"
   ]
  },
  {
   "cell_type": "markdown",
   "metadata": {},
   "source": [
    "## Data Preparation"
   ]
  },
  {
   "cell_type": "code",
   "execution_count": null,
   "metadata": {},
   "outputs": [],
   "source": [
    "# Create DataLoader\n",
    "dataloader = create_vae_dataloader('poker_game_metrics_full.parquet')"
   ]
  },
  {
   "cell_type": "markdown",
   "metadata": {},
   "source": [
    "## Model Initialization"
   ]
  },
  {
   "cell_type": "code",
   "execution_count": null,
   "metadata": {},
   "outputs": [],
   "source": [
    "# Initialize model\n",
    "model = PokerHiddenStateVAE(\n",
    "    input_dim=input_dim,\n",
    "    hidden_state_dim=hidden_state_dim,\n",
    "    hidden_dims=hidden_dims,\n",
    "    latent_dim=latent_dim,\n",
    "    beta=0.1,  # KL divergence weight\n",
    "    alpha=1.0  # Hidden state supervision weight\n",
    ").to(device)"
   ]
  },
  {
   "cell_type": "markdown",
   "metadata": {},
   "source": [
    "## Training"
   ]
  },
  {
   "cell_type": "code",
   "execution_count": null,
   "metadata": {},
   "outputs": [],
   "source": [
    "# Optimizer and Scheduler\n",
    "optimizer = torch.optim.Adam(model.parameters(), lr=learning_rate)\n",
    "scheduler = torch.optim.lr_scheduler.ReduceLROnPlateau(\n",
    "    optimizer, mode='min', factor=0.5, patience=50, verbose=True\n",
    ")\n",
    "\n",
    "# Train Model\n",
    "metrics = train_poker_vae(\n",
    "    model, \n",
    "    dataloader, \n",
    "    optimizer, \n",
    "    device=device, \n",
    "    epochs=epochs,\n",
    "    log_interval=50,\n",
    "    scheduler=scheduler\n",
    ")"
   ]
  },
  {
   "cell_type": "markdown",
   "metadata": {},
   "source": [
    "## Visualization and Analysis"
   ]
  },
  {
   "cell_type": "code",
   "execution_count": null,
   "metadata": {},
   "outputs": [],
   "source": [
    "# Plot Training Metrics\n",
    "plt.figure(figsize=(15, 10))\n",
    "\n",
    "# Total Loss\n",
    "plt.subplot(2, 2, 1)\n",
    "plt.plot(metrics['total_loss'], label='Total Loss')\n",
    "plt.title('Total Loss over Epochs')\n",
    "plt.xlabel('Epoch')\n",
    "plt.ylabel('Loss')\n",
    "plt.yscale('log')\n",
    "plt.legend()\n",
    "\n",
    "# Reconstruction Loss\n",
    "plt.subplot(2, 2, 2)\n",
    "plt.plot(metrics['reconstruction_loss'], label='Reconstruction Loss', color='green')\n",
    "plt.title('Reconstruction Loss over Epochs')\n",
    "plt.xlabel('Epoch')\n",
    "plt.ylabel('Loss')\n",
    "plt.yscale('log')\n",
    "plt.legend()\n",
    "\n",
    "# KL Divergence\n",
    "plt.subplot(2, 2, 3)\n",
    "plt.plot(metrics['kl_divergence'], label='KL Divergence', color='red')\n",
    "plt.title('KL Divergence over Epochs')\n",
    "plt.xlabel('Epoch')\n",
    "plt.ylabel('KL Divergence')\n",
    "plt.yscale('log')\n",
    "plt.legend()\n",
    "\n",
    "# Hidden State Loss\n",
    "plt.subplot(2, 2, 4)\n",
    "plt.plot(metrics['hidden_state_loss'], label='Hidden State Loss', color='purple')\n",
    "plt.title('Hidden State Loss over Epochs')\n",
    "plt.xlabel('Epoch')\n",
    "plt.ylabel('Loss')\n",
    "plt.yscale('log')\n",
    "plt.legend()\n",
    "\n",
    "plt.tight_layout()\n",
    "plt.savefig('training_metrics.png')\n",
    "plt.show()"
   ]
  },
  {
   "cell_type": "markdown",
   "metadata": {},
   "source": [
    "## Model Saving"
   ]
  },
  {
   "cell_type": "code",
   "execution_count": null,
   "metadata": {},
   "outputs": [],
   "source": [
    "# Save trained model\n",
    "torch.save(model.state_dict(), 'poker_hidden_state_vae.pth')\n",
    "print(\"Model saved successfully!\")"
   ]
  }
 ],
 "metadata": {
  "kernelspec": {
   "display_name": "Python 3",
   "language": "python",
   "name": "python3"
  },
  "language_info": {
   "codemirror_mode": {
    "name": "ipython",
    "version": 3
   },
   "file_extension": ".py",
   "mimetype": "text/x-python",
   "name": "python",
   "nbconvert_exporter": "python",
   "pygments_lexer": "ipython3",
   "version": "3.9.0"
  }
 },
 "nbformat": 4,
 "nbformat_minor": 4
}
